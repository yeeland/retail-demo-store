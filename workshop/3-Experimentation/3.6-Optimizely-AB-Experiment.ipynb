{
 "cells": [
  {
   "cell_type": "markdown",
   "metadata": {
    "pycharm": {
     "name": "#%% md\n"
    }
   },
   "source": [
    "# Retail Demo Store Experimentation Workshop - Using Optimizely Full Stack\n",
    "\n",
    "The examples given in the prior experimentation workshops detail how to implement a testing framework from scratch. This is one option to enable experimentation on the different features of your application, but significant technical work is required to get up and running. In order to execute an experiment, you first need so solve these problems:\n",
    "\n",
    "- Making variation assignment random\n",
    "- Ensuring traffic is equally split between the variations\n",
    "- Implementing success metrics\n",
    "- Reporting on test outcomes\n",
    "\n",
    "Once the logic to run and measure your experiment is built, additional problems. For example:\n",
    "- What if you want to limit the percentage of users that get into your experiment?\n",
    "- How do you make changes to a running test?\n",
    "- How do you pause a test once it’s complete?\n",
    "- How do you make sure your test findings are accurate?\n",
    "\n",
    "Requirements for robust experimentation can quickly snowball into a lot of work. Rather than tackling these problems as they arise, another option is to use an external platform. This workshop covers using Optimizely’s Full Stack Experimentation product to execute an A/B test.\n",
    "\n",
    "## What is Full Stack?\n",
    "\n",
    "Optimizely Full Stack is a progressive delivery platform for product and engineering teams. Full Stack is deployed directly within client-side or server-side code via Software Development Kit (SDK), or as its own standalone service using [Optimizely Agent](https://docs.developers.optimizely.com/full-stack/docs/use-optimizely-agent).\n",
    "\n",
    "An implementation of Optimizely Full Stack provides users with a suite of functions that enable delivery of new application features, as well as experimentation on existing features:\n",
    "\n",
    "- **Feature Flags**: The ability to remotely toggle features on/off\n",
    "- **Feature Rollouts**: Increase or decrease the percentage of users exposed to a feature flag at any point in time\n",
    "- **Feature Variables**: Add a variable to any feature, allowing for aspects of a feature to be remotely configured at any time\n",
    "- **Feature Experimentation**: Create variations of any existing feature and measure the impact of feature changes on conversion metrics\n",
    "- **Audience Attributes**: Create user attributes for results segmentation and audience targeting use-cases\n",
    "- **Event Tracking**: Track interactions to measure user impact\n",
    "\n",
    "## Prerequisites\n",
    "\n",
    "This workshop requires a free Optimizely Rollouts account. Sign up for a free rollouts account at https://www.optimizely.com/rollouts/.\n",
    "\n",
    "## Optimizely Architecture\n",
    "\n",
    "![Optimizely Architecture](./images/optimizely/optimizely-architecture.png)\n",
    "\n",
    "The diagram above illustrates how the Optimizely application provides feature and experiment configurations to installed Optimizely SDK instances. You can interpret the diagram as follows:\n",
    "\n",
    "1. The Optimizely Application (on the left-hand-side) allows you to create/launch feature configurations and tests from the Project UI, as well as create metrics to measure experiment outcomes\n",
    "2. Project information is populated to a datafile, which represents the configurations of all features/experiments in JSON format. The datafile contains information such as:\n",
    "    1. Feature and experiment status information (not started/running/paused)\n",
    "    2. Available variations for experimentation\n",
    "    3. Traffic allocation percentages (percentage of user population exposed to features/experiments)\n",
    "    4. Audience targeting conditions \n",
    "3. Optimizely’s SDKs use the project datafile to create an Optimizely instance, either client-side or server-side, that buckets users into enabled features/tests\n",
    "4. Interaction events are tracked asynchronously back to Optimizely’s results pages, allowing users to measure the impact of their experiments\n",
    "\n",
    "## How Optimizely Buckets a User\n",
    "\n",
    "Optimizely Full Stack uses a hashing algorithm that combines the user ID, feature flag key, and traffic allocation percentage to determine user bucketing. This allows bucketing to occur in the SDK code, rather than requiring the SDK to communicate with an external API. This method ensures that bucketing decisions happen in matter of microseconds, minimizing the performance impact on your application. It also ensures that users receive the same variation in an experiment, even if traffic allocation is increased. More information available [here](https://docs.developers.optimizely.com/full-stack/docs/how-bucketing-works#:~:text=Bucketing%20is%20the%20process%20of,which%20variation%20they%20should%20see.).\n",
    "\n",
    "### Create a Feature\n",
    "\n",
    "Once you have access to your new Optimizely Rollouts account, you will be prompted to create a new feature flag:\n",
    "\n",
    "![Create a Feature](./images/optimizely/create-a-feature.png)\n",
    "\n",
    "Enter a name for your feature flag and click “Create New Feature”. Let's go with `home_product_recs` and follow what we covered in the AB Experiment section.\n",
    "\n",
    "![Create your first feature flag](./images/optimizely/create-your-first-feature-flag.png)\n",
    "\n",
    "Quickstart instructions will be provided for JavaScript (Browser), which is used in this repository. The example in this tutorial uses Python. Click “Close Quickstart Guide” and continue.\n",
    "\n",
    "![Implement your first feature flag](./images/optimizely/implement-your-first-feature-flag.png)\n",
    "\n"
   ]
  }
 ],
 "metadata": {
  "language_info": {
   "codemirror_mode": {
    "name": "ipython",
    "version": 3
   },
   "file_extension": ".py",
   "mimetype": "text/x-python",
   "name": "python",
   "nbconvert_exporter": "python",
   "pygments_lexer": "ipython3",
   "version": 3
  },
  "orig_nbformat": 2,
  "kernelspec": {
   "name": "python3",
   "language": "python",
   "display_name": "Python 3"
  },
  "pycharm": {
   "stem_cell": {
    "cell_type": "raw",
    "source": [],
    "metadata": {
     "collapsed": false
    }
   }
  }
 },
 "nbformat": 4,
 "nbformat_minor": 2
}